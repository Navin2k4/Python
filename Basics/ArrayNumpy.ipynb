{
 "cells": [
  {
   "cell_type": "markdown",
   "id": "49cd33f0-6d4e-43d3-95c2-1d9c71be1e3c",
   "metadata": {},
   "source": [
    "Shape of Array"
   ]
  },
  {
   "cell_type": "code",
   "execution_count": 2,
   "id": "5c10ba5f-23f8-4c60-a53e-e67c20a94ae5",
   "metadata": {},
   "outputs": [],
   "source": [
    "import numpy as np\n",
    "a=np.array([1,2,3,4,5])"
   ]
  },
  {
   "cell_type": "code",
   "execution_count": 3,
   "id": "64a0c9cd-1798-4ccb-a824-72feaf2773ad",
   "metadata": {},
   "outputs": [
    {
     "data": {
      "text/plain": [
       "(5,)"
      ]
     },
     "execution_count": 3,
     "metadata": {},
     "output_type": "execute_result"
    }
   ],
   "source": [
    "a.shape"
   ]
  },
  {
   "cell_type": "code",
   "execution_count": 6,
   "id": "931a1f0a-204f-4e81-9218-d88fa5bf565b",
   "metadata": {},
   "outputs": [],
   "source": [
    "b=np.array([[1,2,3],[3,4,5]])"
   ]
  },
  {
   "cell_type": "code",
   "execution_count": 8,
   "id": "d65b841b-6644-4825-9390-272b6e68d026",
   "metadata": {},
   "outputs": [
    {
     "data": {
      "text/plain": [
       "(2, 3)"
      ]
     },
     "execution_count": 8,
     "metadata": {},
     "output_type": "execute_result"
    }
   ],
   "source": [
    "b.shape"
   ]
  },
  {
   "cell_type": "code",
   "execution_count": 12,
   "id": "0e33dab2-8dbd-4b60-95c9-e6e3ada1a585",
   "metadata": {},
   "outputs": [],
   "source": [
    "c=np.array([1,2,3,4,5,6,7,8,9,10,11,12])"
   ]
  },
  {
   "cell_type": "code",
   "execution_count": 15,
   "id": "265c880c-83ee-4ef5-bbe6-ad658ccf8598",
   "metadata": {},
   "outputs": [],
   "source": [
    "new_arr=c.reshape(4,3)"
   ]
  },
  {
   "cell_type": "code",
   "execution_count": 16,
   "id": "37191b8a-2782-4f7d-a29d-e92b92123a2b",
   "metadata": {},
   "outputs": [
    {
     "data": {
      "text/plain": [
       "array([[ 1,  2,  3],\n",
       "       [ 4,  5,  6],\n",
       "       [ 7,  8,  9],\n",
       "       [10, 11, 12]])"
      ]
     },
     "execution_count": 16,
     "metadata": {},
     "output_type": "execute_result"
    }
   ],
   "source": [
    "new_arr"
   ]
  },
  {
   "cell_type": "code",
   "execution_count": 18,
   "id": "d0b74ad2-83b5-412a-9176-6403fb5dc348",
   "metadata": {},
   "outputs": [],
   "source": [
    "new_arr = c.reshape(2,3,2)"
   ]
  },
  {
   "cell_type": "code",
   "execution_count": 19,
   "id": "652b5173-8ee1-4b3f-be7d-f10657ab1ba1",
   "metadata": {},
   "outputs": [
    {
     "data": {
      "text/plain": [
       "array([[[ 1,  2],\n",
       "        [ 3,  4],\n",
       "        [ 5,  6]],\n",
       "\n",
       "       [[ 7,  8],\n",
       "        [ 9, 10],\n",
       "        [11, 12]]])"
      ]
     },
     "execution_count": 19,
     "metadata": {},
     "output_type": "execute_result"
    }
   ],
   "source": [
    "new_arr"
   ]
  },
  {
   "cell_type": "code",
   "execution_count": 21,
   "id": "a32f5711-eadd-492e-838f-5e6a1c45e6e3",
   "metadata": {},
   "outputs": [
    {
     "data": {
      "text/plain": [
       "array([[[ 1,  2],\n",
       "        [ 3,  4],\n",
       "        [ 5,  6]],\n",
       "\n",
       "       [[ 7,  8],\n",
       "        [ 9, 10],\n",
       "        [11, 12]]])"
      ]
     },
     "execution_count": 21,
     "metadata": {},
     "output_type": "execute_result"
    }
   ],
   "source": [
    "new_arr"
   ]
  },
  {
   "cell_type": "markdown",
   "id": "ff9ae0fd-aad6-4ce0-8f77-d0ae6b0e6929",
   "metadata": {},
   "source": [
    "Flattening of array"
   ]
  },
  {
   "cell_type": "code",
   "execution_count": 34,
   "id": "5f6c7648-7753-4bf9-84ed-295b20e40386",
   "metadata": {},
   "outputs": [],
   "source": [
    "import numpy as np\n",
    "twoD_array=np.array([[1,2,3],[4,5,6]])\n",
    "flatten_arr=twoD_array.reshape(-1)"
   ]
  },
  {
   "cell_type": "code",
   "execution_count": 35,
   "id": "66aa31fe-4c4e-49b1-931f-fc2f2545dd60",
   "metadata": {},
   "outputs": [
    {
     "data": {
      "text/plain": [
       "array([1, 2, 3, 4, 5, 6])"
      ]
     },
     "execution_count": 35,
     "metadata": {},
     "output_type": "execute_result"
    }
   ],
   "source": [
    "flatten_arr"
   ]
  },
  {
   "cell_type": "code",
   "execution_count": 36,
   "id": "1852656a-bec1-4119-b42e-e7047e88ac14",
   "metadata": {},
   "outputs": [
    {
     "data": {
      "text/plain": [
       "(6,)"
      ]
     },
     "execution_count": 36,
     "metadata": {},
     "output_type": "execute_result"
    }
   ],
   "source": [
    "flatten_arr.shape"
   ]
  },
  {
   "cell_type": "markdown",
   "id": "27c3c66e-4978-4fcf-8442-634a3d7e4636",
   "metadata": {},
   "source": [
    "Indexing the Array Like normal Python indexing"
   ]
  },
  {
   "cell_type": "code",
   "execution_count": 37,
   "id": "933a18f1-6eba-4fc8-8ef8-47435700a24a",
   "metadata": {},
   "outputs": [
    {
     "data": {
      "text/plain": [
       "array([ 1,  2,  3,  4,  5,  6,  7,  8,  9, 10, 11, 12])"
      ]
     },
     "execution_count": 37,
     "metadata": {},
     "output_type": "execute_result"
    }
   ],
   "source": [
    "c"
   ]
  },
  {
   "cell_type": "code",
   "execution_count": 39,
   "id": "0f4a2624-d81e-49a5-9fec-72c10fd59d9c",
   "metadata": {},
   "outputs": [
    {
     "data": {
      "text/plain": [
       "1"
      ]
     },
     "execution_count": 39,
     "metadata": {},
     "output_type": "execute_result"
    }
   ],
   "source": [
    "c[0]"
   ]
  },
  {
   "cell_type": "code",
   "execution_count": 40,
   "id": "4144252e-f299-4d23-adfb-a54ba44ee601",
   "metadata": {},
   "outputs": [
    {
     "data": {
      "text/plain": [
       "11"
      ]
     },
     "execution_count": 40,
     "metadata": {},
     "output_type": "execute_result"
    }
   ],
   "source": [
    "c[10]"
   ]
  },
  {
   "cell_type": "code",
   "execution_count": 41,
   "id": "2ffd05cf-568a-4498-97ef-2ccc0b1e6f41",
   "metadata": {},
   "outputs": [
    {
     "data": {
      "text/plain": [
       "5"
      ]
     },
     "execution_count": 41,
     "metadata": {},
     "output_type": "execute_result"
    }
   ],
   "source": [
    "c[1]+c[2]"
   ]
  },
  {
   "cell_type": "code",
   "execution_count": 46,
   "id": "c12b56b0-2d83-45c5-b3dd-75a22a3b4498",
   "metadata": {},
   "outputs": [
    {
     "name": "stdout",
     "output_type": "stream",
     "text": [
      "[[1 2 3]\n",
      " [3 4 5]]\n"
     ]
    }
   ],
   "source": [
    "print(b)"
   ]
  },
  {
   "cell_type": "code",
   "execution_count": 45,
   "id": "8f22e55a-5c7b-420a-821d-c0ca5bffb646",
   "metadata": {},
   "outputs": [
    {
     "name": "stdout",
     "output_type": "stream",
     "text": [
      "2nd element on 1st row :  2\n"
     ]
    }
   ],
   "source": [
    "print(\"2nd element on 1st row : \" ,b[0,1])"
   ]
  },
  {
   "cell_type": "markdown",
   "id": "63dfdcd6",
   "metadata": {},
   "source": [
    "Array Iteration"
   ]
  },
  {
   "cell_type": "code",
   "execution_count": 3,
   "id": "c66ad9c9",
   "metadata": {},
   "outputs": [
    {
     "name": "stdout",
     "output_type": "stream",
     "text": [
      "1\n",
      "2\n",
      "3\n",
      "4\n",
      "5\n"
     ]
    }
   ],
   "source": [
    "import numpy as np\n",
    "arr1 = np.array([1,2,3,4,5])\n",
    "for x in arr1:\n",
    "    print(x)"
   ]
  },
  {
   "cell_type": "code",
   "execution_count": 10,
   "id": "26f67bd9",
   "metadata": {},
   "outputs": [
    {
     "name": "stdout",
     "output_type": "stream",
     "text": [
      "1\n",
      "2\n",
      "3\n",
      "3\n",
      "4\n",
      "5\n"
     ]
    }
   ],
   "source": [
    "import numpy as np\n",
    "arr2 = np.array([[1, 2, 3], [3, 4, 5]])\n",
    "for x in arr2:\n",
    "    for y in x:\n",
    "        print(y)"
   ]
  },
  {
   "cell_type": "markdown",
   "id": "2d34f1a1",
   "metadata": {},
   "source": [
    "Slicing of Array same ad python"
   ]
  },
  {
   "cell_type": "code",
   "execution_count": 14,
   "id": "a24b3e8b",
   "metadata": {},
   "outputs": [
    {
     "data": {
      "text/plain": [
       "array([2, 3, 4, 5])"
      ]
     },
     "execution_count": 14,
     "metadata": {},
     "output_type": "execute_result"
    }
   ],
   "source": [
    "import numpy as np\n",
    "a1 = np.array([1,2,3,4,5,6,7])\n",
    "a1[1:5]"
   ]
  },
  {
   "cell_type": "code",
   "execution_count": 15,
   "id": "e2bf52b2",
   "metadata": {},
   "outputs": [
    {
     "data": {
      "text/plain": [
       "array([4, 5])"
      ]
     },
     "execution_count": 15,
     "metadata": {},
     "output_type": "execute_result"
    }
   ],
   "source": [
    "a2 = np.array([[1, 2, 3], [3, 4, 5]])\n",
    "a2[1,[1,2]]"
   ]
  },
  {
   "cell_type": "markdown",
   "id": "6aae7d7d",
   "metadata": {},
   "source": [
    "Searching and Sorting"
   ]
  },
  {
   "cell_type": "code",
   "execution_count": 17,
   "id": "b544b083",
   "metadata": {},
   "outputs": [],
   "source": [
    "import numpy as np\n",
    "arr = np.array([1,2,3,4,5,6,7,8,9,10])\n",
    "x = np.where(arr==4)"
   ]
  },
  {
   "cell_type": "code",
   "execution_count": 19,
   "id": "aad59ca0",
   "metadata": {},
   "outputs": [
    {
     "name": "stdout",
     "output_type": "stream",
     "text": [
      "(array([3], dtype=int64),)\n"
     ]
    }
   ],
   "source": [
    "print(x) # Returns the index of the element"
   ]
  },
  {
   "cell_type": "code",
   "execution_count": 20,
   "id": "fed46404",
   "metadata": {},
   "outputs": [
    {
     "name": "stdout",
     "output_type": "stream",
     "text": [
      "(array([1, 3, 5, 7, 9], dtype=int64),)\n"
     ]
    }
   ],
   "source": [
    "y= np.where(arr%2 == 0)\n",
    "print(y)"
   ]
  },
  {
   "cell_type": "code",
   "execution_count": 21,
   "id": "ebb7077a",
   "metadata": {},
   "outputs": [
    {
     "name": "stdout",
     "output_type": "stream",
     "text": [
      "[ 2  2  2  4  5  6  7  8  9 10]\n"
     ]
    }
   ],
   "source": [
    "arr1=[4,5,7,2,6,2,8,2,9,10]\n",
    "print(np.sort(arr1))"
   ]
  },
  {
   "cell_type": "code",
   "execution_count": 22,
   "id": "26ba2a22",
   "metadata": {},
   "outputs": [
    {
     "name": "stdout",
     "output_type": "stream",
     "text": [
      "['banana' 'jackfruit' 'joyboy']\n"
     ]
    }
   ],
   "source": [
    "arr2=['banana','joyboy','jackfruit']\n",
    "print(np.sort(arr2))"
   ]
  }
 ],
 "metadata": {
  "kernelspec": {
   "display_name": "Python 3 (ipykernel)",
   "language": "python",
   "name": "python3"
  },
  "language_info": {
   "codemirror_mode": {
    "name": "ipython",
    "version": 3
   },
   "file_extension": ".py",
   "mimetype": "text/x-python",
   "name": "python",
   "nbconvert_exporter": "python",
   "pygments_lexer": "ipython3",
   "version": "3.11.4"
  }
 },
 "nbformat": 4,
 "nbformat_minor": 5
}
