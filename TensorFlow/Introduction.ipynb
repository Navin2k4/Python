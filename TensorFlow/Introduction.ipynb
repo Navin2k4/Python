{
 "cells": [
  {
   "cell_type": "markdown",
   "metadata": {},
   "source": [
    "**Tensor Flow Introduction**\n",
    "\n",
    "Tensorflow is a opennsource machine laraning platform. It is ownes and maintained by google and is one if the largest open source machine learning libraries in the world \n",
    "- Image Classification1 \n",
    "- Data Clustering\n",
    "- Regression \n",
    "- Reinforcement learning \n",
    "- Natural Language Processing"
   ]
  },
  {
   "cell_type": "markdown",
   "metadata": {},
   "source": [
    "It has two main components\n",
    "* Graphs\n",
    "* Sessions"
   ]
  },
  {
   "cell_type": "code",
   "execution_count": null,
   "metadata": {},
   "outputs": [],
   "source": [
    "import tensorflow as tf  # now import the tensorflow module\n",
    "print(tf.version)"
   ]
  },
  {
   "cell_type": "markdown",
   "metadata": {},
   "source": [
    "# Tensors \n",
    "\n",
    "\"A tensor is a generalization of vectors and matrices to potentially higher dimensions. Internally, TensorFlow represents tensors as n-dimensional arrays of base datatypes.\" (https://www.tensorflow.org/guide/tensor)\n",
    "\n",
    "It should't surprise you that tensors are a fundemental apsect of TensorFlow. They are the main objects that are passed around and manipluated throughout the program. Each tensor represents a partialy defined computation that will eventually produce a value. TensorFlow programs work by building a graph of Tensor objects that details how tensors are related. Running different parts of the graph allow results to be generated.\n",
    "\n",
    "Each tensor has a data type and a shape. \n",
    "\n",
    "**Data Types Include**: float32, int32, string and others.\n",
    "\n",
    "**Shape**: Represents the dimension of data.\n",
    "\n",
    "Just like vectors and matrices tensors can have operations applied to them like addition, subtraction, dot product, cross product etc.\n",
    "\n",
    "In the next sections we will discuss some different properties of tensors. This is to make you more familiar with how tensorflow represnts data and how you can manipulate this data.\n"
   ]
  },
  {
   "cell_type": "markdown",
   "metadata": {},
   "source": [
    "### Creating Tensors\n",
    "Below is an example of how to create some different tensors.\n",
    "\n",
    "You simply define the value of the tensor and the datatype and you are good to go! It's worth mentioning that usually we deal with tensors of numeric data, it is quite rare to see string tensors.\n",
    "\n",
    "For a full list of datatypes please refer to the following guide.\n",
    "\n",
    "https://www.tensorflow.org/api_docs/python/tf/dtypes/DType?version=stable"
   ]
  },
  {
   "cell_type": "code",
   "execution_count": null,
   "metadata": {},
   "outputs": [],
   "source": [
    "string = tf.Variable(\"This is a String\",tf.string)\n",
    "number = tf.Variable(32,tf.int32)\n",
    "floating = tf.Variable(32.32,tf.float32)\n",
    "print(string)\n",
    "print(number)\n",
    "print(floating)"
   ]
  },
  {
   "cell_type": "markdown",
   "metadata": {},
   "source": [
    "### Rank/Degree of Tensors\n",
    "Another word for rank is degree, these terms simply mean the number of dimensions involved in the tensor. What we created above is a *tensor of rank 0*, also known as a scalar. \n",
    "\n",
    "Now we'll create some tensors of higher degrees/ranks."
   ]
  },
  {
   "cell_type": "code",
   "execution_count": null,
   "metadata": {},
   "outputs": [],
   "source": [
    "rank1 = tf.Variable([\"Test1\",\"Test2\",\"Test3\"], tf.string)\n",
    "rank2 = tf.Variable([[\"test\", \"ok\"], [\"test\", \"yes\"]], tf.string)\n",
    "rank3= tf.Variable([[\"test\", \"ok\",\"ok\"], [\"test\", \"yes\",\"ok\"],[\"ok\",\"ok\",\"ok\"]], tf.string)\n",
    "print(rank1)\n",
    "print(rank2)\n",
    "print(rank3)\n",
    "print(tf.rank(rank1))\n",
    "print(tf.rank(rank2))\n",
    "print(tf.rank(rank3))\n"
   ]
  },
  {
   "cell_type": "markdown",
   "metadata": {},
   "source": [
    "The rank of a tensor is direclty related to the deepest level of nested lists. You can see in the first example ```[\"Test\"]``` is a rank 1 tensor as the deepest level of nesting is 1. \n",
    "Where in the second example ```[[\"test\", \"ok\"], [\"test\", \"yes\"]]``` is a rank 2 tensor as the deepest level of nesting is 2."
   ]
  },
  {
   "cell_type": "markdown",
   "metadata": {},
   "source": [
    "### Shape of Tensors\n",
    "Now that we've talked about the rank of tensors it's time to talk about the shape. The shape of a tensor is simply the number of elements that exist in each dimension. TensorFlow will try to determine the shape of a tensor but sometimes it may be unknown.\n",
    "\n",
    "To **get the shape** of a tensor we use the shape attribute.\n"
   ]
  },
  {
   "cell_type": "code",
   "execution_count": null,
   "metadata": {},
   "outputs": [],
   "source": [
    "print(rank1.shape)\n",
    "print(rank2.shape)"
   ]
  },
  {
   "cell_type": "markdown",
   "metadata": {},
   "source": [
    "### Changing Shape\n",
    "The number of elements of a tensor is the product of the sizes of all its shapes. There are often many shapes that have the same number of elements, making it convient to be able to change the shape of a tensor.\n",
    "\n",
    "The example below shows how to change the shape of a tensor."
   ]
  },
  {
   "cell_type": "code",
   "execution_count": null,
   "metadata": {},
   "outputs": [],
   "source": [
    "# tf.ones() creates a shape [1,2,3] tensor full of ones\n",
    "tensor1 = tf.ones([1, 2, 3])\n",
    "print(tensor1)\n",
    "# reshape existing data to shape [2,3,1]\n",
    "tensor2 = tf.reshape(tensor1, [2, 3, 1])\n",
    "print(tensor2)\n",
    "# -1 tells the tensor to calculate the size of the dimension in that place\n",
    "tensor3 = tf.reshape(tensor2, [3, -1])\n",
    "print(tensor3)\n",
    "# this will reshape the tensor to [3,2]\n",
    "# The numer of elements in the reshaped tensor MUST match the number in the original\n"
   ]
  },
  {
   "cell_type": "markdown",
   "metadata": {},
   "source": [
    "### Slicing Tensors\n",
    "You may be familiar with the term \"slice\" in python and its use on lists, tuples etc. Well the slice operator can be used on tensors to select specific axes or elements.\n",
    "\n",
    "When we slice or select elements from a tensor, we can use comma seperated values inside the set of square brackets. Each subsequent value refrences a different dimension of the tensor.\n",
    "\n",
    "Ex: ```tensor[dim1, dim2, dim3]```\n",
    "\n",
    "I've included a few examples that will hopefully help illustrate how we can manipulate tensors with the slice operator."
   ]
  },
  {
   "cell_type": "code",
   "execution_count": null,
   "metadata": {},
   "outputs": [],
   "source": [
    "# Creating a 2D tensor\n",
    "matrix = [[1, 2, 3, 4, 5],\n",
    "          [6, 7, 8, 9, 10],\n",
    "          [11, 12, 13, 14, 15],\n",
    "          [16, 17, 18, 19, 20]]\n",
    "\n",
    "tensor = tf.Variable(matrix, dtype=tf.int32)\n",
    "print(tf.rank(tensor))\n",
    "print(tensor.shape)\n"
   ]
  },
  {
   "cell_type": "code",
   "execution_count": null,
   "metadata": {},
   "outputs": [],
   "source": [
    "# Now lets select some different rows and columns from our tensor\n",
    "three = tensor[0, 2]  # selects the 3rd element from the 1st row\n",
    "print(three)  # -> 3\n",
    "\n",
    "row1 = tensor[0]  # selects the first row\n",
    "print(row1)\n",
    "\n",
    "column1 = tensor[:, 0]  # selects the first column\n",
    "print(column1)\n",
    "\n",
    "row_2_and_4 = tensor[1::2]  # selects second and fourth row\n",
    "print(row_2_and_4)\n",
    "\n",
    "column_1_in_row_2_and_3 = tensor[1:3, 0]\n",
    "print(column_1_in_row_2_and_3)"
   ]
  },
  {
   "cell_type": "markdown",
   "metadata": {},
   "source": [
    "### Types of Tensors\n",
    "Before we go to far, I will mention that there are diffent types of tensors. These are the most used and we will talk more in depth about each as they are used.\n",
    "- Variable\n",
    "- Constant\n",
    "- Placeholder\n",
    "- SparseTensor\n",
    "\n",
    "With the execption of ```Variable``` all these tensors are immuttable, meaning their value may not change during execution.\n",
    "\n",
    "For now, it is enough to understand that we use the Variable tensor when we want to potentially change the value of our tensor.\n",
    "\n"
   ]
  },
  {
   "cell_type": "markdown",
   "metadata": {},
   "source": [
    "### Evaluating Tensors\n",
    "There will be some of the times through this guide that we need to evaluate this tensor. In other words gets its value since tensors represents a partially complete computation we will sometimes need to run which called as a session to evaluate the tensor\n",
    "There are many ways to achieve it but here is the simplest way below"
   ]
  },
  {
   "cell_type": "code",
   "execution_count": null,
   "metadata": {},
   "outputs": [],
   "source": [
    "# with tf.Session() as sess:  #Creating a session using the default graph\n",
    "#     tensor.eval() #tensor will of course be the name of your tensor"
   ]
  },
  {
   "cell_type": "code",
   "execution_count": null,
   "metadata": {},
   "outputs": [],
   "source": [
    "# Example\n",
    "\n",
    "t = tf.zeros([5,5,5,5])\n",
    "#print(t)\n",
    "t =tf.reshape(t,[625])\n",
    "#print(t)\n",
    "t = tf.reshape(t,[125,-1])\n",
    "print(t)"
   ]
  }
 ],
 "metadata": {
  "kernelspec": {
   "display_name": "Python 3",
   "language": "python",
   "name": "python3"
  },
  "language_info": {
   "codemirror_mode": {
    "name": "ipython",
    "version": 3
   },
   "file_extension": ".py",
   "mimetype": "text/x-python",
   "name": "python",
   "nbconvert_exporter": "python",
   "pygments_lexer": "ipython3",
   "version": "3.11.4"
  },
  "orig_nbformat": 4
 },
 "nbformat": 4,
 "nbformat_minor": 2
}
